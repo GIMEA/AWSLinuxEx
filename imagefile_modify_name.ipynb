{
 "cells": [
  {
   "cell_type": "code",
   "execution_count": 9,
   "id": "140995f8",
   "metadata": {
    "scrolled": true
   },
   "outputs": [],
   "source": [
    "import os\n",
    "import shutil\n",
    "\n",
    "file_path = \"/home/hyejin/myData\"\n",
    "file_names = os.listdir(file_path)\n",
    "\n",
    "i = 0\n",
    "j = 0\n",
    "for name in file_names:\n",
    "    fname, ext = os.path.splitext(name)\n",
    "    if (ext == '.jpeg') or (ext == '.jpg'):\n",
    "        src = os.path.join(file_path, name)\n",
    "        dst = str(i) + '.jpg'\n",
    "        dst = os.path.join(file_path, dst)\n",
    "        os.rename(src, dst)\n",
    "        i += 1\n",
    "    elif ext == '.png':\n",
    "        src2 = os.path.join(file_path, name)\n",
    "        dst2 = str(j) + '.png'\n",
    "        dst2 = os.path.join(file_path, dst2)\n",
    "        os.rename(src2, dst2)\n",
    "        j += 1"
   ]
  },
  {
   "cell_type": "code",
   "execution_count": 12,
   "id": "c5e5a029",
   "metadata": {
    "scrolled": true
   },
   "outputs": [
    {
     "name": "stdout",
     "output_type": "stream",
     "text": [
      "43\n"
     ]
    }
   ],
   "source": [
    "fileList = os.listdir(file_path)\n",
    "print(len(fileList))"
   ]
  },
  {
   "cell_type": "code",
   "execution_count": null,
   "id": "894e4c3b",
   "metadata": {},
   "outputs": [],
   "source": []
  }
 ],
 "metadata": {
  "kernelspec": {
   "display_name": "Python 3",
   "language": "python",
   "name": "python3"
  },
  "language_info": {
   "codemirror_mode": {
    "name": "ipython",
    "version": 3
   },
   "file_extension": ".py",
   "mimetype": "text/x-python",
   "name": "python",
   "nbconvert_exporter": "python",
   "pygments_lexer": "ipython3",
   "version": "3.7.10"
  }
 },
 "nbformat": 4,
 "nbformat_minor": 5
}
